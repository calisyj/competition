{
 "cells": [
  {
   "cell_type": "code",
   "execution_count": 1,
   "id": "34cf38b4",
   "metadata": {},
   "outputs": [
    {
     "name": "stderr",
     "output_type": "stream",
     "text": [
      "C:\\Users\\user\\anaconda3\\envs\\tf\\lib\\site-packages\\ipykernel_launcher.py:13: FutureWarning: Dropping of nuisance columns in DataFrame reductions (with 'numeric_only=None') is deprecated; in a future version this will raise TypeError.  Select only valid columns before calling the reduction.\n",
      "  del sys.path[0]\n",
      "C:\\Users\\user\\anaconda3\\envs\\tf\\lib\\site-packages\\sklearn\\utils\\deprecation.py:87: FutureWarning: Function get_feature_names is deprecated; get_feature_names is deprecated in 1.0 and will be removed in 1.2. Please use get_feature_names_out instead.\n",
      "  warnings.warn(msg, category=FutureWarning)\n",
      "C:\\Users\\user\\anaconda3\\envs\\tf\\lib\\site-packages\\ipykernel_launcher.py:37: FutureWarning: Dropping of nuisance columns in DataFrame reductions (with 'numeric_only=None') is deprecated; in a future version this will raise TypeError.  Select only valid columns before calling the reduction.\n",
      "C:\\Users\\user\\anaconda3\\envs\\tf\\lib\\site-packages\\sklearn\\utils\\deprecation.py:87: FutureWarning: Function get_feature_names is deprecated; get_feature_names is deprecated in 1.0 and will be removed in 1.2. Please use get_feature_names_out instead.\n",
      "  warnings.warn(msg, category=FutureWarning)\n"
     ]
    },
    {
     "name": "stdout",
     "output_type": "stream",
     "text": [
      "풍속 예측이 완료되었습니다. 결과가 submission.csv에 저장되었습니다.\n",
      "랜덤 포레스트 평균 RMSE: 0.6083032518940009\n",
      "엑스트라 트리 평균 RMSE: 0.5390010149541583\n",
      "신경망 평균 RMSE: 1.4010978528707196\n",
      "앙상블 평균 RMSE: 0.24824263483263803\n"
     ]
    }
   ],
   "source": [
    "import pandas as pd\n",
    "from sklearn.model_selection import train_test_split, cross_val_score, KFold\n",
    "from sklearn.ensemble import RandomForestRegressor, ExtraTreesRegressor\n",
    "from sklearn.neural_network import MLPRegressor\n",
    "from sklearn.metrics import mean_squared_error, mean_absolute_error\n",
    "from sklearn.preprocessing import OneHotEncoder\n",
    "import numpy as np\n",
    "\n",
    "# train.csv 파일 불러오기\n",
    "train_data = pd.read_csv('train.csv')\n",
    "\n",
    "# 결측치를 평균값으로 대체\n",
    "train_data = train_data.fillna(train_data.mean())\n",
    "\n",
    "# '측정 시간대'를 원핫 인코딩하여 숫자 형태로 변환\n",
    "encoder = OneHotEncoder(sparse=False)\n",
    "time_encoded = encoder.fit_transform(train_data[['측정 시간대']])\n",
    "time_encoded_df = pd.DataFrame(time_encoded, columns=encoder.get_feature_names(['측정 시간대']))\n",
    "train_data = pd.concat([train_data, time_encoded_df], axis=1).drop(['측정 시간대'], axis=1)\n",
    "\n",
    "# 풍속을 예측할 특성(입력 변수)과 풍속(출력 변수)을 분리합니다.\n",
    "X_train = train_data.drop(['ID', '풍속 (m/s)'], axis=1)  # 입력 변수들\n",
    "y_train = train_data['풍속 (m/s)']  # 출력 변수 (풍속)\n",
    "\n",
    "# 랜덤 포레스트 회귀 모델과 엑스트라 트리 회귀 모델, 그리고 신경망 회귀 모델을 사용하여 풍속 예측 모델을 학습시킵니다.\n",
    "rf_model = RandomForestRegressor(random_state=42)\n",
    "et_model = ExtraTreesRegressor(random_state=42)\n",
    "nn_model = MLPRegressor(random_state=42, max_iter=1000)\n",
    "rf_model.fit(X_train, y_train)\n",
    "et_model.fit(X_train, y_train)\n",
    "nn_model.fit(X_train, y_train)\n",
    "\n",
    "# test.csv 파일 불러오기\n",
    "test_data = pd.read_csv('test.csv')\n",
    "\n",
    "# 결측치를 평균값으로 대체\n",
    "test_data = test_data.fillna(test_data.mean())\n",
    "\n",
    "# '측정 시간대'를 원핫 인코딩하여 숫자 형태로 변환\n",
    "time_encoded = encoder.transform(test_data[['측정 시간대']])\n",
    "time_encoded_df = pd.DataFrame(time_encoded, columns=encoder.get_feature_names(['측정 시간대']))\n",
    "test_data = pd.concat([test_data, time_encoded_df], axis=1).drop(['측정 시간대'], axis=1)\n",
    "\n",
    "# 테스트 데이터로 풍속 예측을 수행합니다.\n",
    "X_test = test_data.drop('ID', axis=1)  # 테스트 입력 변수들\n",
    "y_pred_rf = rf_model.predict(X_test)  # 랜덤 포레스트로 풍속 예측\n",
    "y_pred_et = et_model.predict(X_test)  # 엑스트라 트리로 풍속 예측\n",
    "y_pred_nn = nn_model.predict(X_test)  # 신경망으로 풍속 예측\n",
    "\n",
    "# 세 모델의 예측값을 평균하여 최종 예측값으로 사용합니다.\n",
    "y_pred_ensemble = (y_pred_rf + y_pred_et + y_pred_nn) / 3\n",
    "\n",
    "# Submit / 제출\n",
    "submission = pd.read_csv('./sample_submission.csv')\n",
    "submission['풍속 (m/s)'] = y_pred_ensemble\n",
    "\n",
    "# 예측 결과를 submission.csv 양식에 맞게 저장합니다.\n",
    "submission.to_csv('submission.csv', index=False)\n",
    "\n",
    "print(\"풍속 예측이 완료되었습니다. 결과가 submission.csv에 저장되었습니다.\")\n",
    "\n",
    "# Cross Validation을 활용하여 평균 RMSE 계산\n",
    "rf_scores = cross_val_score(rf_model, X_train, y_train, scoring='neg_mean_squared_error', cv=KFold(n_splits=5, shuffle=True, random_state=42))\n",
    "et_scores = cross_val_score(et_model, X_train, y_train, scoring='neg_mean_squared_error', cv=KFold(n_splits=5, shuffle=True, random_state=42))\n",
    "nn_scores = cross_val_score(nn_model, X_train, y_train, scoring='neg_mean_squared_error', cv=KFold(n_splits=5, shuffle=True, random_state=42))\n",
    "ensemble_pred = (rf_model.predict(X_train) + et_model.predict(X_train) + nn_model.predict(X_train)) / 3\n",
    "ensemble_scores = cross_val_score(ExtraTreesRegressor(), X_train, y_train - ensemble_pred, scoring='neg_mean_squared_error', cv=KFold(n_splits=5, shuffle=True, random_state=42))\n",
    "\n",
    "# 각 모델의 평균 RMSE 출력\n",
    "rf_rmse = np.sqrt(-rf_scores).mean()\n",
    "et_rmse = np.sqrt(-et_scores).mean()\n",
    "nn_rmse = np.sqrt(-nn_scores).mean()\n",
    "ensemble_rmse = np.sqrt(-ensemble_scores).mean()\n",
    "\n",
    "print(\"랜덤 포레스트 평균 RMSE:\", rf_rmse)\n",
    "print(\"엑스트라 트리 평균 RMSE:\", et_rmse)\n",
    "print(\"신경망 평균 RMSE:\", nn_rmse)\n",
    "print(\"앙상블 평균 RMSE:\", ensemble_rmse)\n"
   ]
  },
  {
   "cell_type": "code",
   "execution_count": null,
   "id": "53b84778",
   "metadata": {},
   "outputs": [],
   "source": []
  }
 ],
 "metadata": {
  "kernelspec": {
   "display_name": "Python 3 (ipykernel)",
   "language": "python",
   "name": "python3"
  },
  "language_info": {
   "codemirror_mode": {
    "name": "ipython",
    "version": 3
   },
   "file_extension": ".py",
   "mimetype": "text/x-python",
   "name": "python",
   "nbconvert_exporter": "python",
   "pygments_lexer": "ipython3",
   "version": "3.7.13"
  }
 },
 "nbformat": 4,
 "nbformat_minor": 5
}
