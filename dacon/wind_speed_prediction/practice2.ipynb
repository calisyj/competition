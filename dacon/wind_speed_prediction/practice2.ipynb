{
 "cells": [
  {
   "cell_type": "code",
   "execution_count": 14,
   "id": "f274c935",
   "metadata": {},
   "outputs": [],
   "source": [
    "import pandas as pd\n",
    "from sklearn.model_selection import train_test_split, GridSearchCV\n",
    "from xgboost import XGBRegressor\n",
    "from sklearn.preprocessing import OneHotEncoder\n",
    "from sklearn.preprocessing import StandardScaler\n",
    "from sklearn.metrics import mean_squared_error\n",
    "from sklearn.model_selection import cross_val_score\n",
    "import numpy as np"
   ]
  },
  {
   "cell_type": "code",
   "execution_count": 4,
   "id": "62a4d3aa",
   "metadata": {},
   "outputs": [],
   "source": [
    "def get_new_col(df, new_col):\n",
    "  cal_train = df.copy(deep=True)\n",
    "  for i in new_col:\n",
    "      split_col = i.split('*')\n",
    "      if len(split_col) >= 2:\n",
    "          col_name = \"\"\n",
    "          for j in range(len(split_col)):\n",
    "              if j == 0:\n",
    "                  col_name = split_col[j]\n",
    "                  cal_train['cal'] = cal_train[split_col[j]]\n",
    "              else:\n",
    "                  col_name += f'*{split_col[j]}'\n",
    "                  cal_train['cal'] *= cal_train[split_col[j]]\n",
    "          df[col_name] = cal_train['cal']\n",
    "  return df"
   ]
  },
  {
   "cell_type": "code",
   "execution_count": 5,
   "id": "f12d7dc7",
   "metadata": {},
   "outputs": [],
   "source": [
    "def get_data(data_list):\n",
    "    copy_data_list = copy.deepcopy(data_list)\n",
    "    new_data = \"\"\n",
    "    for i in range(len(copy_data_list)):\n",
    "        if i == 0:\n",
    "            new_data = copy_data_list[i]\n",
    "        else:\n",
    "            new_data = pd.concat([new_data, copy_data_list[i]])\n",
    "    del_list = []\n",
    "    for i in new_data.columns:\n",
    "        if '남은시간' in i:\n",
    "            del_list.append(i)\n",
    "    new_data = new_data.drop(del_list, axis=1)\n",
    "    return new_data"
   ]
  },
  {
   "cell_type": "code",
   "execution_count": 6,
   "id": "1febf8fa",
   "metadata": {},
   "outputs": [],
   "source": [
    "def test_(df):\n",
    "    test_train = df.copy(deep=True)\n",
    "    test_train['풍속'] = np.log1p(test_train['풍속'])\n",
    "\n",
    "    y_train = test_train['풍속']\n",
    "    X = test_train.drop(['풍속'],axis=1)\n",
    "    X_col = X.columns\n",
    "    scaler = StandardScaler()\n",
    "    scaler.fit(X)\n",
    "    scaled_X_train  = scaler.transform(X)\n",
    "    scaled_X_train  = pd.DataFrame(scaled_X_train , columns=X_col)\n",
    "\n",
    "    xg_reg = xgb.XGBRegressor(objective ='reg:squarederror', max_depth=5)\n",
    "    nmse = cross_validate(xg_reg, scaled_X_train, y_train,\n",
    "                      scoring=['neg_mean_squared_error'],\n",
    "                      return_train_score=True,\n",
    "                      cv=5, n_jobs=-1)\n",
    "    mse = -1 * nmse['test_neg_mean_squared_error']\n",
    "    rmse = np.sqrt(mse)\n",
    "    avg_rmse = round(np.mean(rmse),4)\n",
    "    print(f\"평균 RMSE :{avg_rmse :.4f}\")\n",
    "    return avg_rmse"
   ]
  },
  {
   "cell_type": "code",
   "execution_count": 7,
   "id": "9f78e36c",
   "metadata": {},
   "outputs": [
    {
     "name": "stderr",
     "output_type": "stream",
     "text": [
      "C:\\Users\\user\\anaconda3\\envs\\tf\\lib\\site-packages\\ipykernel_launcher.py:22: FutureWarning: Dropping of nuisance columns in DataFrame reductions (with 'numeric_only=None') is deprecated; in a future version this will raise TypeError.  Select only valid columns before calling the reduction.\n",
      "C:\\Users\\user\\anaconda3\\envs\\tf\\lib\\site-packages\\sklearn\\utils\\deprecation.py:87: FutureWarning: Function get_feature_names is deprecated; get_feature_names is deprecated in 1.0 and will be removed in 1.2. Please use get_feature_names_out instead.\n",
      "  warnings.warn(msg, category=FutureWarning)\n"
     ]
    }
   ],
   "source": [
    "# train.csv 파일 불러오기\n",
    "train_data = pd.read_csv('train.csv')\n",
    "\n",
    "new_columns = {\n",
    "    '섭씨 온도(°⁣C)': '섭씨온도',\n",
    "    '절대 온도(K)': '절대온도',\n",
    "    '이슬점 온도(°C)': '이슬점온도',\n",
    "    '상대 습도 (%)': '상대습도',\n",
    "    '대기압(mbar)': '대기압',\n",
    "    '포화 증기압(mbar)': '포화증기압',\n",
    "    '실제 증기압(mbar)': '실제증기압',\n",
    "    '증기압 부족량(mbar)': '증기압부족량',\n",
    "    '수증기 함량 (g/kg)': '수증기함량',\n",
    "    '공기 밀도 (g/m**3)': '공기밀도',\n",
    "    '풍향 (deg)': '풍향',\n",
    "    '풍속 (m/s)': '풍속'\n",
    "}\n",
    "\n",
    "# 열 이름 변경 적용\n",
    "train_data.rename(columns=new_columns, inplace=True)\n",
    "# 결측치를 평균값으로 대체\n",
    "train_data = train_data.fillna(train_data.mean())\n",
    "\n",
    "# '측정 시간대'를 원핫 인코딩하여 숫자 형태로 변환\n",
    "encoder = OneHotEncoder(sparse=False)\n",
    "time_encoded = encoder.fit_transform(train_data[['측정 시간대']])\n",
    "time_encoded_df = pd.DataFrame(time_encoded, columns=encoder.get_feature_names(['측정 시간대']))\n",
    "train_data = pd.concat([train_data, time_encoded_df], axis=1).drop(['측정 시간대','ID','월','일'], axis=1)\n",
    "\n",
    "train_data = train_data.drop(['상대습도', '대기압', '공기밀도', '측정 시간대_새벽', '측정 시간대_오전', '측정 시간대_오후', '측정 시간대_저녁'], axis=1)\n",
    "\n",
    "# 경우의 수를 담을 리스트 생성\n",
    "new_col = ['섭씨온도*절대온도*이슬점온도*포화증기압','섭씨온도*절대온도*이슬점온도*실제증기압','섭씨온도*절대온도*이슬점온도*증기압부족량','섭씨온도*절대온도*이슬점온도*수증기함량','실제증기압*수증기함량']        \n",
    "train_data = get_new_col(train_data, new_col)\n"
   ]
  },
  {
   "cell_type": "code",
   "execution_count": 8,
   "id": "99f1e88b",
   "metadata": {},
   "outputs": [],
   "source": [
    "# 풍속을 예측할 특성(입력 변수)과 풍속(출력 변수)을 분리합니다.\n",
    "X_train = train_data.drop(['풍속'], axis=1)  # 입력 변수들\n",
    "y_train = train_data['풍속']  # 출력 변수 (풍속)\n"
   ]
  },
  {
   "cell_type": "code",
   "execution_count": 9,
   "id": "920dc502",
   "metadata": {},
   "outputs": [
    {
     "name": "stdout",
     "output_type": "stream",
     "text": [
      "Best Parameters: {'colsample_bytree': 1.0, 'learning_rate': 0.1, 'max_depth': 7, 'min_child_weight': 1, 'n_estimators': 300, 'subsample': 0.8}\n",
      "Best Score (Negative MSE): -0.9751267923963207\n"
     ]
    }
   ],
   "source": [
    "# XGBoost 모델 정의\n",
    "xgb_model = XGBRegressor(objective ='reg:squarederror', random_state=42)\n",
    "\n",
    "# 탐색할 하이퍼파라미터 값들을 딕셔너리 형태로 정의\n",
    "param_grid = {\n",
    "    'n_estimators': [100, 200, 300],\n",
    "    'learning_rate': [0.01, 0.1, 0.2],\n",
    "    'max_depth': [3, 5, 7],\n",
    "    'min_child_weight': [1, 3, 5],\n",
    "    'subsample': [0.8, 1.0],\n",
    "    'colsample_bytree': [0.7, 0.8, 1.0]\n",
    "}\n",
    "\n",
    "# GridSearchCV를 사용하여 최적의 하이퍼파라미터 탐색\n",
    "grid_search = GridSearchCV(estimator=xgb_model, param_grid=param_grid, cv=5, scoring='neg_mean_squared_error', n_jobs=-1)\n",
    "grid_search.fit(X_train, y_train)\n",
    "\n",
    "# 최적의 하이퍼파라미터 값과 그 때의 성능 출력\n",
    "print(\"Best Parameters:\", grid_search.best_params_)\n",
    "print(\"Best Score (Negative MSE):\", grid_search.best_score_)"
   ]
  },
  {
   "cell_type": "code",
   "execution_count": 10,
   "id": "69528395",
   "metadata": {},
   "outputs": [
    {
     "data": {
      "text/plain": [
       "XGBRegressor(colsample_bytree=1.0, max_depth=7, n_estimators=300,\n",
       "             objective='reg:squarederror', random_state=42, subsample=0.8)"
      ]
     },
     "execution_count": 10,
     "metadata": {},
     "output_type": "execute_result"
    }
   ],
   "source": [
    "# 최적의 하이퍼파라미터로 모델 재학습\n",
    "best_model = grid_search.best_estimator_\n",
    "best_model.fit(X_train, y_train)\n"
   ]
  },
  {
   "cell_type": "code",
   "execution_count": 12,
   "id": "a28b23b2",
   "metadata": {},
   "outputs": [
    {
     "name": "stderr",
     "output_type": "stream",
     "text": [
      "C:\\Users\\user\\anaconda3\\envs\\tf\\lib\\site-packages\\ipykernel_launcher.py:6: FutureWarning: Dropping of nuisance columns in DataFrame reductions (with 'numeric_only=None') is deprecated; in a future version this will raise TypeError.  Select only valid columns before calling the reduction.\n",
      "  \n",
      "C:\\Users\\user\\anaconda3\\envs\\tf\\lib\\site-packages\\sklearn\\utils\\deprecation.py:87: FutureWarning: Function get_feature_names is deprecated; get_feature_names is deprecated in 1.0 and will be removed in 1.2. Please use get_feature_names_out instead.\n",
      "  warnings.warn(msg, category=FutureWarning)\n"
     ]
    }
   ],
   "source": [
    "# test.csv 파일 불러오기\n",
    "test_data = pd.read_csv('test.csv')\n",
    "# 열 이름 변경 적용\n",
    "test_data.rename(columns=new_columns, inplace=True)\n",
    "# 결측치를 평균값으로 대체\n",
    "test_data = test_data.fillna(test_data.mean())\n",
    "\n",
    "# '측정 시간대'를 원핫 인코딩하여 숫자 형태로 변환\n",
    "time_encoded = encoder.transform(test_data[['측정 시간대']])\n",
    "time_encoded_df = pd.DataFrame(time_encoded, columns=encoder.get_feature_names(['측정 시간대']))\n",
    "test_data = pd.concat([test_data, time_encoded_df], axis=1).drop(['측정 시간대','ID','월','일'], axis=1)\n",
    "\n",
    "test_data = test_data.drop(['상대습도', '대기압', '공기밀도', '측정 시간대_새벽', '측정 시간대_오전', '측정 시간대_오후', '측정 시간대_저녁'], axis=1)\n",
    "test_data = get_new_col(test_data, new_col)\n",
    "\n",
    "# 테스트 데이터로 풍속 예측을 수행합니다.\n",
    "X_test = test_data  # 테스트 입력 변수들\n",
    "y_pred = best_model.predict(X_test)  # 테스트 데이터로 풍속 예측"
   ]
  },
  {
   "cell_type": "code",
   "execution_count": 13,
   "id": "f97e4d9f",
   "metadata": {},
   "outputs": [
    {
     "name": "stdout",
     "output_type": "stream",
     "text": [
      "풍속 예측이 완료되었습니다. 결과가 submission.csv에 저장되었습니다.\n"
     ]
    }
   ],
   "source": [
    "# Submit / 제출\n",
    "submission = pd.read_csv('./sample_submission.csv')\n",
    "submission['풍속 (m/s)'] = y_pred\n",
    "\n",
    "# 예측 결과를 submission.csv 양식에 맞게 저장합니다.\n",
    "submission.to_csv('submission.csv', index=False)\n",
    "\n",
    "print(\"풍속 예측이 완료되었습니다. 결과가 submission.csv에 저장되었습니다.\")"
   ]
  },
  {
   "cell_type": "code",
   "execution_count": null,
   "id": "84f9b05a",
   "metadata": {},
   "outputs": [],
   "source": [
    "# Cross Validation을 활용하여 평균 RMSE 계산\n",
    "scores = cross_val_score(best_model, X_train, y_train, scoring='neg_mean_squared_error', cv=5)\n",
    "rmse_scores = np.sqrt(-scores)\n",
    "\n",
    "print(\"평균 RMSE:\", np.mean(rmse_scores))"
   ]
  },
  {
   "cell_type": "code",
   "execution_count": null,
   "id": "4d84208d",
   "metadata": {},
   "outputs": [],
   "source": []
  }
 ],
 "metadata": {
  "kernelspec": {
   "display_name": "Python 3 (ipykernel)",
   "language": "python",
   "name": "python3"
  },
  "language_info": {
   "codemirror_mode": {
    "name": "ipython",
    "version": 3
   },
   "file_extension": ".py",
   "mimetype": "text/x-python",
   "name": "python",
   "nbconvert_exporter": "python",
   "pygments_lexer": "ipython3",
   "version": "3.7.13"
  }
 },
 "nbformat": 4,
 "nbformat_minor": 5
}
