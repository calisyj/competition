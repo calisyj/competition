{
 "cells": [
  {
   "cell_type": "code",
   "execution_count": 1,
   "id": "fc6bc5e3",
   "metadata": {
    "scrolled": true
   },
   "outputs": [
    {
     "name": "stderr",
     "output_type": "stream",
     "text": [
      "C:\\Users\\user\\anaconda3\\envs\\tf\\lib\\site-packages\\ipykernel_launcher.py:11: FutureWarning: Dropping of nuisance columns in DataFrame reductions (with 'numeric_only=None') is deprecated; in a future version this will raise TypeError.  Select only valid columns before calling the reduction.\n",
      "  # This is added back by InteractiveShellApp.init_path()\n",
      "C:\\Users\\user\\anaconda3\\envs\\tf\\lib\\site-packages\\sklearn\\utils\\deprecation.py:87: FutureWarning: Function get_feature_names is deprecated; get_feature_names is deprecated in 1.0 and will be removed in 1.2. Please use get_feature_names_out instead.\n",
      "  warnings.warn(msg, category=FutureWarning)\n",
      "C:\\Users\\user\\anaconda3\\envs\\tf\\lib\\site-packages\\ipykernel_launcher.py:31: FutureWarning: Dropping of nuisance columns in DataFrame reductions (with 'numeric_only=None') is deprecated; in a future version this will raise TypeError.  Select only valid columns before calling the reduction.\n",
      "C:\\Users\\user\\anaconda3\\envs\\tf\\lib\\site-packages\\sklearn\\utils\\deprecation.py:87: FutureWarning: Function get_feature_names is deprecated; get_feature_names is deprecated in 1.0 and will be removed in 1.2. Please use get_feature_names_out instead.\n",
      "  warnings.warn(msg, category=FutureWarning)\n"
     ]
    },
    {
     "name": "stdout",
     "output_type": "stream",
     "text": [
      "풍속 예측이 완료되었습니다. 결과가 submission.csv에 저장되었습니다.\n"
     ]
    }
   ],
   "source": [
    "import pandas as pd\n",
    "from sklearn.model_selection import train_test_split\n",
    "from sklearn.ensemble import RandomForestRegressor\n",
    "from sklearn.metrics import mean_squared_error, mean_absolute_error\n",
    "from sklearn.preprocessing import OneHotEncoder\n",
    "\n",
    "# train.csv 파일 불러오기\n",
    "train_data = pd.read_csv('train.csv')\n",
    "\n",
    "# 결측치를 평균값으로 대체\n",
    "train_data = train_data.fillna(train_data.mean())\n",
    "\n",
    "# '측정 시간대'를 원핫 인코딩하여 숫자 형태로 변환\n",
    "encoder = OneHotEncoder(sparse=False)\n",
    "time_encoded = encoder.fit_transform(train_data[['측정 시간대']])\n",
    "time_encoded_df = pd.DataFrame(time_encoded, columns=encoder.get_feature_names(['측정 시간대']))\n",
    "train_data = pd.concat([train_data, time_encoded_df], axis=1).drop(['측정 시간대'], axis=1)\n",
    "\n",
    "# 풍속을 예측할 특성(입력 변수)과 풍속(출력 변수)을 분리합니다.\n",
    "X_train = train_data.drop(['ID', '풍속 (m/s)'], axis=1)  # 입력 변수들\n",
    "y_train = train_data['풍속 (m/s)']  # 출력 변수 (풍속)\n",
    "\n",
    "# 랜덤 포레스트 회귀 모델을 사용하여 풍속 예측 모델을 학습시킵니다.\n",
    "model = RandomForestRegressor(random_state=42)\n",
    "model.fit(X_train, y_train)\n",
    "\n",
    "# test.csv 파일 불러오기\n",
    "test_data = pd.read_csv('test.csv')\n",
    "\n",
    "# 결측치를 평균값으로 대체\n",
    "test_data = test_data.fillna(test_data.mean())\n",
    "\n",
    "# '측정 시간대'를 원핫 인코딩하여 숫자 형태로 변환\n",
    "time_encoded = encoder.transform(test_data[['측정 시간대']])\n",
    "time_encoded_df = pd.DataFrame(time_encoded, columns=encoder.get_feature_names(['측정 시간대']))\n",
    "test_data = pd.concat([test_data, time_encoded_df], axis=1).drop(['측정 시간대'], axis=1)\n",
    "\n",
    "# 테스트 데이터로 풍속 예측을 수행합니다.\n",
    "X_test = test_data.drop('ID', axis=1)  # 테스트 입력 변수들\n",
    "y_pred = model.predict(X_test)  # 테스트 데이터로 풍속 예측\n",
    "\n",
    "# Submit / 제출\n",
    "submission = pd.read_csv('./sample_submission.csv')\n",
    "submission['풍속 (m/s)'] = y_pred\n",
    "\n",
    "# 예측 결과를 submission.csv 양식에 맞게 저장합니다.\n",
    "submission.to_csv('submission.csv', index=False)\n",
    "\n",
    "print(\"풍속 예측이 완료되었습니다. 결과가 submission.csv에 저장되었습니다.\")\n"
   ]
  },
  {
   "cell_type": "code",
   "execution_count": null,
   "id": "06369798",
   "metadata": {},
   "outputs": [],
   "source": [
    "# '월', '일', '측정 시간대'를 합쳐서 '일시' 열 생성하는 함수\n",
    "def create_datetime(row):\n",
    "    month = int(row['월'])\n",
    "    day = int(row['일'])\n",
    "    time_of_day = row['측정 시간대']\n",
    "    if time_of_day == '새벽':\n",
    "        hour = 0\n",
    "    elif time_of_day == '오전':\n",
    "        hour = 6\n",
    "    elif time_of_day == '오후':\n",
    "        hour = 12\n",
    "    elif time_of_day == '저녁':\n",
    "        hour = 18\n",
    "    else:\n",
    "        raise ValueError(\"Invalid '측정 시간대' value\")\n",
    "\n",
    "    # 2024년도를 기준으로 윤년 날짜 처리\n",
    "    try:\n",
    "        return pd.to_datetime(f'2024-{month:02d}-{day:02d} {hour:02d}:00').strftime('%Y-%m-%d %H:%M:%S')\n",
    "    except ValueError:\n",
    "        # 윤년에 해당하지 않는 날짜는 2022년도 기준으로 처리\n",
    "        return pd.to_datetime(f'2022-{month:02d}-{day:02d} {hour:02d}:00').strftime('%Y-%m-%d %H:%M:%S')\n",
    "\n",
    "# '일시' 열 생성 (날짜 데이터를 문자열로 변환하여 저장)\n",
    "test_data['일시'] = test_data.apply(create_datetime, axis=1)\n"
   ]
  }
 ],
 "metadata": {
  "kernelspec": {
   "display_name": "Python 3 (ipykernel)",
   "language": "python",
   "name": "python3"
  },
  "language_info": {
   "codemirror_mode": {
    "name": "ipython",
    "version": 3
   },
   "file_extension": ".py",
   "mimetype": "text/x-python",
   "name": "python",
   "nbconvert_exporter": "python",
   "pygments_lexer": "ipython3",
   "version": "3.7.13"
  }
 },
 "nbformat": 4,
 "nbformat_minor": 5
}
