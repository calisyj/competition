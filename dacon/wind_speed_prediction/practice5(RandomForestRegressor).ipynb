{
 "cells": [
  {
   "cell_type": "code",
   "execution_count": 2,
   "id": "d3edf641",
   "metadata": {},
   "outputs": [
    {
     "name": "stdout",
     "output_type": "stream",
     "text": [
      "Collecting optuna\n",
      "  Downloading optuna-3.2.0-py3-none-any.whl (390 kB)\n",
      "     ------------------------------------ 390.6/390.6 kB 459.4 kB/s eta 0:00:00\n",
      "Requirement already satisfied: packaging>=20.0 in c:\\users\\user\\anaconda3\\envs\\tf\\lib\\site-packages (from optuna) (21.3)\n",
      "Collecting colorlog\n",
      "  Downloading colorlog-6.7.0-py2.py3-none-any.whl (11 kB)\n",
      "Collecting sqlalchemy>=1.3.0\n",
      "  Downloading SQLAlchemy-2.0.19-cp37-cp37m-win_amd64.whl (2.0 MB)\n",
      "     ---------------------------------------- 2.0/2.0 MB 433.0 kB/s eta 0:00:00\n",
      "Requirement already satisfied: numpy in c:\\users\\user\\anaconda3\\envs\\tf\\lib\\site-packages (from optuna) (1.21.5)\n",
      "Requirement already satisfied: tqdm in c:\\users\\user\\anaconda3\\envs\\tf\\lib\\site-packages (from optuna) (4.64.1)\n",
      "Collecting cmaes>=0.9.1\n",
      "  Downloading cmaes-0.10.0-py3-none-any.whl (29 kB)\n",
      "Collecting alembic>=1.5.0\n",
      "  Downloading alembic-1.11.1-py3-none-any.whl (224 kB)\n",
      "     ------------------------------------ 224.5/224.5 kB 457.9 kB/s eta 0:00:00\n",
      "Requirement already satisfied: PyYAML in c:\\users\\user\\anaconda3\\envs\\tf\\lib\\site-packages (from optuna) (6.0)\n",
      "Requirement already satisfied: importlib-metadata in c:\\users\\user\\anaconda3\\envs\\tf\\lib\\site-packages (from alembic>=1.5.0->optuna) (4.11.3)\n",
      "Collecting Mako\n",
      "  Downloading Mako-1.2.4-py3-none-any.whl (78 kB)\n",
      "     -------------------------------------- 78.7/78.7 kB 547.5 kB/s eta 0:00:00\n",
      "Requirement already satisfied: typing-extensions>=4 in c:\\users\\user\\anaconda3\\envs\\tf\\lib\\site-packages (from alembic>=1.5.0->optuna) (4.3.0)\n",
      "Requirement already satisfied: importlib-resources in c:\\users\\user\\anaconda3\\envs\\tf\\lib\\site-packages (from alembic>=1.5.0->optuna) (5.2.0)\n",
      "Requirement already satisfied: pyparsing!=3.0.5,>=2.0.2 in c:\\users\\user\\anaconda3\\envs\\tf\\lib\\site-packages (from packaging>=20.0->optuna) (3.0.9)\n",
      "Collecting greenlet!=0.4.17\n",
      "  Downloading greenlet-2.0.2-cp37-cp37m-win_amd64.whl (192 kB)\n",
      "     ------------------------------------ 192.4/192.4 kB 448.7 kB/s eta 0:00:00\n",
      "Requirement already satisfied: colorama in c:\\users\\user\\anaconda3\\envs\\tf\\lib\\site-packages (from colorlog->optuna) (0.4.6)\n",
      "Requirement already satisfied: zipp>=0.5 in c:\\users\\user\\anaconda3\\envs\\tf\\lib\\site-packages (from importlib-metadata->alembic>=1.5.0->optuna) (3.8.0)\n",
      "Requirement already satisfied: MarkupSafe>=0.9.2 in c:\\users\\user\\anaconda3\\envs\\tf\\lib\\site-packages (from Mako->alembic>=1.5.0->optuna) (2.1.1)\n",
      "Installing collected packages: greenlet, colorlog, cmaes, sqlalchemy, Mako, alembic, optuna\n",
      "Successfully installed Mako-1.2.4 alembic-1.11.1 cmaes-0.10.0 colorlog-6.7.0 greenlet-2.0.2 optuna-3.2.0 sqlalchemy-2.0.19\n",
      "Note: you may need to restart the kernel to use updated packages.\n"
     ]
    }
   ],
   "source": [
    "#pip install optuna"
   ]
  },
  {
   "cell_type": "code",
   "execution_count": 3,
   "id": "1e250c55",
   "metadata": {},
   "outputs": [
    {
     "name": "stderr",
     "output_type": "stream",
     "text": [
      "C:\\Users\\user\\anaconda3\\envs\\tf\\lib\\site-packages\\tqdm\\auto.py:22: TqdmWarning: IProgress not found. Please update jupyter and ipywidgets. See https://ipywidgets.readthedocs.io/en/stable/user_install.html\n",
      "  from .autonotebook import tqdm as notebook_tqdm\n",
      "C:\\Users\\user\\anaconda3\\envs\\tf\\lib\\site-packages\\ipykernel_launcher.py:16: FutureWarning: Dropping of nuisance columns in DataFrame reductions (with 'numeric_only=None') is deprecated; in a future version this will raise TypeError.  Select only valid columns before calling the reduction.\n",
      "  \n",
      "C:\\Users\\user\\anaconda3\\envs\\tf\\lib\\site-packages\\sklearn\\utils\\deprecation.py:87: FutureWarning: Function get_feature_names is deprecated; get_feature_names is deprecated in 1.0 and will be removed in 1.2. Please use get_feature_names_out instead.\n",
      "  warnings.warn(msg, category=FutureWarning)\n",
      "[I 2023-07-24 01:02:22,819] A new study created in memory with name: no-name-02281863-f39f-42ed-916d-0d45f28065ce\n",
      "[I 2023-07-24 01:04:35,150] Trial 0 finished with value: 0.9743262429497547 and parameters: {'n_estimators': 597, 'max_depth': 8, 'min_samples_split': 20, 'min_samples_leaf': 10, 'max_features': 0.3789064127770013}. Best is trial 0 with value: 0.9743262429497547.\n",
      "[I 2023-07-24 01:07:02,436] Trial 1 finished with value: 0.7847726470468487 and parameters: {'n_estimators': 315, 'max_depth': 11, 'min_samples_split': 17, 'min_samples_leaf': 2, 'max_features': 0.6070280160111738}. Best is trial 1 with value: 0.7847726470468487.\n",
      "[I 2023-07-24 01:07:55,060] Trial 2 finished with value: 1.2856255947822235 and parameters: {'n_estimators': 282, 'max_depth': 3, 'min_samples_split': 2, 'min_samples_leaf': 9, 'max_features': 0.5369869073725746}. Best is trial 1 with value: 0.7847726470468487.\n",
      "[I 2023-07-24 01:19:04,013] Trial 3 finished with value: 1.0066061930603167 and parameters: {'n_estimators': 791, 'max_depth': 7, 'min_samples_split': 14, 'min_samples_leaf': 5, 'max_features': 0.9228604526217146}. Best is trial 1 with value: 0.7847726470468487.\n",
      "[I 2023-07-24 01:25:05,895] Trial 4 finished with value: 1.0059487593896075 and parameters: {'n_estimators': 518, 'max_depth': 7, 'min_samples_split': 9, 'min_samples_leaf': 8, 'max_features': 0.595830048086142}. Best is trial 1 with value: 0.7847726470468487.\n",
      "[I 2023-07-24 01:33:05,973] Trial 5 finished with value: 1.1290125226762295 and parameters: {'n_estimators': 794, 'max_depth': 5, 'min_samples_split': 15, 'min_samples_leaf': 10, 'max_features': 0.7329424296942353}. Best is trial 1 with value: 0.7847726470468487.\n",
      "[I 2023-07-24 01:41:46,765] Trial 6 finished with value: 0.7953894133386328 and parameters: {'n_estimators': 331, 'max_depth': 11, 'min_samples_split': 18, 'min_samples_leaf': 5, 'max_features': 0.9503381615913669}. Best is trial 1 with value: 0.7847726470468487.\n",
      "[I 2023-07-24 01:46:15,455] Trial 7 finished with value: 0.7458620221108347 and parameters: {'n_estimators': 332, 'max_depth': 14, 'min_samples_split': 6, 'min_samples_leaf': 10, 'max_features': 0.41436284869429363}. Best is trial 7 with value: 0.7458620221108347.\n",
      "[I 2023-07-24 01:47:14,325] Trial 8 finished with value: 0.8302062076392236 and parameters: {'n_estimators': 170, 'max_depth': 11, 'min_samples_split': 20, 'min_samples_leaf': 4, 'max_features': 0.33724611040238717}. Best is trial 7 with value: 0.7458620221108347.\n",
      "[I 2023-07-24 01:51:00,710] Trial 9 finished with value: 0.796338869283212 and parameters: {'n_estimators': 304, 'max_depth': 11, 'min_samples_split': 20, 'min_samples_leaf': 8, 'max_features': 0.7305773081172184}. Best is trial 7 with value: 0.7458620221108347.\n",
      "[I 2023-07-24 01:53:57,648] Trial 10 finished with value: 0.8018798920701954 and parameters: {'n_estimators': 967, 'max_depth': 15, 'min_samples_split': 6, 'min_samples_leaf': 7, 'max_features': 0.1415498298133045}. Best is trial 7 with value: 0.7458620221108347.\n",
      "[I 2023-07-24 01:58:14,044] Trial 11 finished with value: 0.6554326793046454 and parameters: {'n_estimators': 464, 'max_depth': 15, 'min_samples_split': 9, 'min_samples_leaf': 1, 'max_features': 0.45594038624471117}. Best is trial 11 with value: 0.6554326793046454.\n",
      "[I 2023-07-24 02:01:35,641] Trial 12 finished with value: 0.6679416036355972 and parameters: {'n_estimators': 502, 'max_depth': 15, 'min_samples_split': 9, 'min_samples_leaf': 1, 'max_features': 0.34526258740849175}. Best is trial 11 with value: 0.6554326793046454.\n",
      "[I 2023-07-24 02:03:37,189] Trial 13 finished with value: 0.7699039719176847 and parameters: {'n_estimators': 510, 'max_depth': 13, 'min_samples_split': 11, 'min_samples_leaf': 1, 'max_features': 0.21984559301090614}. Best is trial 11 with value: 0.6554326793046454.\n",
      "[I 2023-07-24 02:07:04,879] Trial 14 finished with value: 0.6883282499929317 and parameters: {'n_estimators': 639, 'max_depth': 15, 'min_samples_split': 8, 'min_samples_leaf': 3, 'max_features': 0.27556122443177833}. Best is trial 11 with value: 0.6554326793046454.\n",
      "[I 2023-07-24 02:10:44,186] Trial 15 finished with value: 0.7124516518345265 and parameters: {'n_estimators': 442, 'max_depth': 13, 'min_samples_split': 12, 'min_samples_leaf': 1, 'max_features': 0.43844169805591254}. Best is trial 11 with value: 0.6554326793046454.\n",
      "[I 2023-07-24 02:12:07,461] Trial 16 finished with value: 0.7957843019440252 and parameters: {'n_estimators': 668, 'max_depth': 15, 'min_samples_split': 3, 'min_samples_leaf': 3, 'max_features': 0.1091001797184748}. Best is trial 11 with value: 0.6554326793046454.\n",
      "[I 2023-07-24 02:14:19,292] Trial 17 finished with value: 0.7425723351266935 and parameters: {'n_estimators': 439, 'max_depth': 13, 'min_samples_split': 10, 'min_samples_leaf': 2, 'max_features': 0.25323872332884023}. Best is trial 11 with value: 0.6554326793046454.\n",
      "[I 2023-07-24 02:15:12,870] Trial 18 finished with value: 0.8892871916535083 and parameters: {'n_estimators': 124, 'max_depth': 9, 'min_samples_split': 7, 'min_samples_leaf': 1, 'max_features': 0.4841396108460117}. Best is trial 11 with value: 0.6554326793046454.\n",
      "[I 2023-07-24 02:19:26,600] Trial 19 finished with value: 0.7726303178133734 and parameters: {'n_estimators': 722, 'max_depth': 12, 'min_samples_split': 13, 'min_samples_leaf': 3, 'max_features': 0.35026253019480347}. Best is trial 11 with value: 0.6554326793046454.\n",
      "[I 2023-07-24 02:23:41,077] Trial 20 finished with value: 0.7022143755248413 and parameters: {'n_estimators': 441, 'max_depth': 14, 'min_samples_split': 4, 'min_samples_leaf': 6, 'max_features': 0.48767584797732655}. Best is trial 11 with value: 0.6554326793046454.\n",
      "[I 2023-07-24 02:27:46,387] Trial 21 finished with value: 0.6686282821064146 and parameters: {'n_estimators': 601, 'max_depth': 15, 'min_samples_split': 8, 'min_samples_leaf': 2, 'max_features': 0.30836183416216767}. Best is trial 11 with value: 0.6554326793046454.\n",
      "[I 2023-07-24 02:30:50,250] Trial 22 finished with value: 0.7132596269297871 and parameters: {'n_estimators': 558, 'max_depth': 14, 'min_samples_split': 10, 'min_samples_leaf': 2, 'max_features': 0.2938747989740747}. Best is trial 11 with value: 0.6554326793046454.\n",
      "[I 2023-07-24 02:34:09,690] Trial 23 finished with value: 0.6871281337934678 and parameters: {'n_estimators': 730, 'max_depth': 15, 'min_samples_split': 5, 'min_samples_leaf': 1, 'max_features': 0.2059123777504498}. Best is trial 11 with value: 0.6554326793046454.\n",
      "[I 2023-07-24 02:36:58,124] Trial 24 finished with value: 0.7533756712119702 and parameters: {'n_estimators': 416, 'max_depth': 12, 'min_samples_split': 8, 'min_samples_leaf': 4, 'max_features': 0.36159108769314097}. Best is trial 11 with value: 0.6554326793046454.\n",
      "[I 2023-07-24 02:42:49,627] Trial 25 finished with value: 0.6946232229882917 and parameters: {'n_estimators': 905, 'max_depth': 14, 'min_samples_split': 9, 'min_samples_leaf': 2, 'max_features': 0.3245953064978194}. Best is trial 11 with value: 0.6554326793046454.\n",
      "[I 2023-07-24 02:44:59,269] Trial 26 finished with value: 0.818508297573383 and parameters: {'n_estimators': 575, 'max_depth': 12, 'min_samples_split': 11, 'min_samples_leaf': 4, 'max_features': 0.19408569579073043}. Best is trial 11 with value: 0.6554326793046454.\n",
      "[I 2023-07-24 02:46:32,451] Trial 27 finished with value: 0.8367043864703211 and parameters: {'n_estimators': 222, 'max_depth': 10, 'min_samples_split': 8, 'min_samples_leaf': 1, 'max_features': 0.43893199950005485}. Best is trial 11 with value: 0.6554326793046454.\n"
     ]
    },
    {
     "name": "stderr",
     "output_type": "stream",
     "text": [
      "[I 2023-07-24 02:49:17,456] Trial 28 finished with value: 0.7104220160937482 and parameters: {'n_estimators': 383, 'max_depth': 13, 'min_samples_split': 6, 'min_samples_leaf': 3, 'max_features': 0.3876586482311468}. Best is trial 11 with value: 0.6554326793046454.\n",
      "[I 2023-07-24 02:51:33,505] Trial 29 finished with value: 0.921195528518353 and parameters: {'n_estimators': 498, 'max_depth': 9, 'min_samples_split': 12, 'min_samples_leaf': 2, 'max_features': 0.2978823022342323}. Best is trial 11 with value: 0.6554326793046454.\n",
      "[I 2023-07-24 02:56:38,760] Trial 30 finished with value: 0.6595756676677922 and parameters: {'n_estimators': 650, 'max_depth': 15, 'min_samples_split': 9, 'min_samples_leaf': 1, 'max_features': 0.384298545275087}. Best is trial 11 with value: 0.6554326793046454.\n",
      "[I 2023-07-24 03:01:23,147] Trial 31 finished with value: 0.6595010527918257 and parameters: {'n_estimators': 604, 'max_depth': 15, 'min_samples_split': 9, 'min_samples_leaf': 1, 'max_features': 0.3650383283134277}. Best is trial 11 with value: 0.6554326793046454.\n",
      "[I 2023-07-24 03:06:05,859] Trial 32 finished with value: 0.6842960086527059 and parameters: {'n_estimators': 625, 'max_depth': 14, 'min_samples_split': 10, 'min_samples_leaf': 1, 'max_features': 0.3905674269781375}. Best is trial 11 with value: 0.6554326793046454.\n",
      "[I 2023-07-24 03:12:58,692] Trial 33 finished with value: 0.6490930920466476 and parameters: {'n_estimators': 677, 'max_depth': 15, 'min_samples_split': 7, 'min_samples_leaf': 2, 'max_features': 0.49987531473290037}. Best is trial 33 with value: 0.6490930920466476.\n",
      "[I 2023-07-24 03:21:20,795] Trial 34 finished with value: 0.6689886250340807 and parameters: {'n_estimators': 833, 'max_depth': 14, 'min_samples_split': 7, 'min_samples_leaf': 2, 'max_features': 0.5236200708412795}. Best is trial 33 with value: 0.6490930920466476.\n",
      "[I 2023-07-24 03:23:13,758] Trial 35 finished with value: 1.288486645083723 and parameters: {'n_estimators': 694, 'max_depth': 3, 'min_samples_split': 4, 'min_samples_leaf': 3, 'max_features': 0.4808764518037921}. Best is trial 33 with value: 0.6490930920466476.\n",
      "[I 2023-07-24 03:31:11,110] Trial 36 finished with value: 0.7125661000279466 and parameters: {'n_estimators': 765, 'max_depth': 13, 'min_samples_split': 15, 'min_samples_leaf': 1, 'max_features': 0.5574250288585657}. Best is trial 33 with value: 0.6490930920466476.\n",
      "[I 2023-07-24 03:34:25,100] Trial 37 finished with value: 1.0933392094245051 and parameters: {'n_estimators': 857, 'max_depth': 6, 'min_samples_split': 7, 'min_samples_leaf': 2, 'max_features': 0.4100285374448982}. Best is trial 33 with value: 0.6490930920466476.\n",
      "[I 2023-07-24 03:37:46,678] Trial 38 finished with value: 1.1309309081698928 and parameters: {'n_estimators': 657, 'max_depth': 5, 'min_samples_split': 11, 'min_samples_leaf': 6, 'max_features': 0.6205200419292218}. Best is trial 33 with value: 0.6490930920466476.\n",
      "[I 2023-07-24 03:42:21,550] Trial 39 finished with value: 0.7458453853240419 and parameters: {'n_estimators': 585, 'max_depth': 12, 'min_samples_split': 2, 'min_samples_leaf': 4, 'max_features': 0.44246754567399327}. Best is trial 33 with value: 0.6490930920466476.\n",
      "[I 2023-07-24 03:46:17,498] Trial 40 finished with value: 0.9454640766164741 and parameters: {'n_estimators': 544, 'max_depth': 8, 'min_samples_split': 13, 'min_samples_leaf': 2, 'max_features': 0.539041723952356}. Best is trial 33 with value: 0.6490930920466476.\n",
      "[I 2023-07-24 03:50:06,302] Trial 41 finished with value: 0.6592663056800381 and parameters: {'n_estimators': 475, 'max_depth': 15, 'min_samples_split': 9, 'min_samples_leaf': 1, 'max_features': 0.3626826004937566}. Best is trial 33 with value: 0.6490930920466476.\n",
      "[I 2023-07-24 03:53:11,873] Trial 42 finished with value: 0.6634844501460315 and parameters: {'n_estimators': 393, 'max_depth': 15, 'min_samples_split': 10, 'min_samples_leaf': 1, 'max_features': 0.3934475758934616}. Best is trial 33 with value: 0.6490930920466476.\n",
      "[I 2023-07-24 03:58:31,267] Trial 43 finished with value: 0.6810116732928049 and parameters: {'n_estimators': 685, 'max_depth': 14, 'min_samples_split': 9, 'min_samples_leaf': 1, 'max_features': 0.360159916413255}. Best is trial 33 with value: 0.6490930920466476.\n",
      "[I 2023-07-24 04:03:07,562] Trial 44 finished with value: 0.6472537030381611 and parameters: {'n_estimators': 493, 'max_depth': 15, 'min_samples_split': 5, 'min_samples_leaf': 2, 'max_features': 0.4323856999270097}. Best is trial 44 with value: 0.6472537030381611.\n",
      "[I 2023-07-24 04:07:29,105] Trial 45 finished with value: 0.6556595099911591 and parameters: {'n_estimators': 481, 'max_depth': 15, 'min_samples_split': 5, 'min_samples_leaf': 3, 'max_features': 0.4656136463662345}. Best is trial 44 with value: 0.6472537030381611.\n",
      "[I 2023-07-24 04:13:08,707] Trial 46 finished with value: 0.6887141436757629 and parameters: {'n_estimators': 476, 'max_depth': 14, 'min_samples_split': 5, 'min_samples_leaf': 5, 'max_features': 0.5937897955258434}. Best is trial 44 with value: 0.6472537030381611.\n",
      "[I 2023-07-24 04:16:12,980] Trial 47 finished with value: 0.7043070169523515 and parameters: {'n_estimators': 369, 'max_depth': 13, 'min_samples_split': 5, 'min_samples_leaf': 3, 'max_features': 0.4623475077809817}. Best is trial 44 with value: 0.6472537030381611.\n",
      "[I 2023-07-24 04:19:00,394] Trial 48 finished with value: 0.6425848982959493 and parameters: {'n_estimators': 268, 'max_depth': 15, 'min_samples_split': 3, 'min_samples_leaf': 2, 'max_features': 0.5227593757719531}. Best is trial 48 with value: 0.6425848982959493.\n",
      "[I 2023-07-24 04:21:34,979] Trial 49 finished with value: 0.6726492936216347 and parameters: {'n_estimators': 264, 'max_depth': 14, 'min_samples_split': 2, 'min_samples_leaf': 3, 'max_features': 0.5104276743202121}. Best is trial 48 with value: 0.6425848982959493.\n",
      "[I 2023-07-24 04:23:22,423] Trial 50 finished with value: 0.7128718132973291 and parameters: {'n_estimators': 218, 'max_depth': 13, 'min_samples_split': 3, 'min_samples_leaf': 4, 'max_features': 0.4300967096802991}. Best is trial 48 with value: 0.6425848982959493.\n",
      "[I 2023-07-24 04:26:25,184] Trial 51 finished with value: 0.6451170620299325 and parameters: {'n_estimators': 334, 'max_depth': 15, 'min_samples_split': 4, 'min_samples_leaf': 2, 'max_features': 0.466641647576679}. Best is trial 48 with value: 0.6425848982959493.\n",
      "[I 2023-07-24 04:29:23,290] Trial 52 finished with value: 0.6452563950375882 and parameters: {'n_estimators': 321, 'max_depth': 15, 'min_samples_split': 4, 'min_samples_leaf': 2, 'max_features': 0.4659191235628584}. Best is trial 48 with value: 0.6425848982959493.\n",
      "[I 2023-07-24 04:33:06,274] Trial 53 finished with value: 0.6616454001116983 and parameters: {'n_estimators': 332, 'max_depth': 14, 'min_samples_split': 3, 'min_samples_leaf': 2, 'max_features': 0.577907549642112}. Best is trial 48 with value: 0.6425848982959493.\n",
      "[I 2023-07-24 04:35:52,868] Trial 54 finished with value: 0.7098654982809094 and parameters: {'n_estimators': 283, 'max_depth': 15, 'min_samples_split': 4, 'min_samples_leaf': 8, 'max_features': 0.508066561826848}. Best is trial 48 with value: 0.6425848982959493.\n",
      "[I 2023-07-24 04:38:47,741] Trial 55 finished with value: 0.6451793086703312 and parameters: {'n_estimators': 232, 'max_depth': 15, 'min_samples_split': 6, 'min_samples_leaf': 2, 'max_features': 0.6289846174430278}. Best is trial 48 with value: 0.6425848982959493.\n",
      "[I 2023-07-24 04:40:11,173] Trial 56 finished with value: 0.6667292689194122 and parameters: {'n_estimators': 116, 'max_depth': 14, 'min_samples_split': 6, 'min_samples_leaf': 2, 'max_features': 0.6129252826007323}. Best is trial 48 with value: 0.6425848982959493.\n",
      "[I 2023-07-24 04:42:17,754] Trial 57 finished with value: 0.6413611476682364 and parameters: {'n_estimators': 183, 'max_depth': 15, 'min_samples_split': 4, 'min_samples_leaf': 2, 'max_features': 0.5574063319349087}. Best is trial 57 with value: 0.6413611476682364.\n",
      "[I 2023-07-24 04:44:24,130] Trial 58 finished with value: 0.6955800286162613 and parameters: {'n_estimators': 166, 'max_depth': 13, 'min_samples_split': 4, 'min_samples_leaf': 3, 'max_features': 0.6501064572360374}. Best is trial 57 with value: 0.6413611476682364.\n"
     ]
    },
    {
     "name": "stderr",
     "output_type": "stream",
     "text": [
      "[I 2023-07-24 04:47:02,297] Trial 59 finished with value: 0.6409839440108437 and parameters: {'n_estimators': 222, 'max_depth': 15, 'min_samples_split': 2, 'min_samples_leaf': 2, 'max_features': 0.5606087249373316}. Best is trial 59 with value: 0.6409839440108437.\n",
      "[I 2023-07-24 04:49:05,153] Trial 60 finished with value: 0.8249793414608677 and parameters: {'n_estimators': 241, 'max_depth': 10, 'min_samples_split': 2, 'min_samples_leaf': 3, 'max_features': 0.5603748849799177}. Best is trial 59 with value: 0.6409839440108437.\n",
      "[I 2023-07-24 04:50:50,281] Trial 61 finished with value: 0.7168430674322374 and parameters: {'n_estimators': 168, 'max_depth': 15, 'min_samples_split': 3, 'min_samples_leaf': 9, 'max_features': 0.5405458812523934}. Best is trial 59 with value: 0.6409839440108437.\n",
      "[I 2023-07-24 04:55:01,726] Trial 62 finished with value: 0.6613338906224921 and parameters: {'n_estimators': 313, 'max_depth': 14, 'min_samples_split': 3, 'min_samples_leaf': 2, 'max_features': 0.6627266582663536}. Best is trial 59 with value: 0.6409839440108437.\n",
      "[I 2023-07-24 04:56:55,658] Trial 63 finished with value: 0.6439693614152902 and parameters: {'n_estimators': 185, 'max_depth': 15, 'min_samples_split': 4, 'min_samples_leaf': 2, 'max_features': 0.5271504077939951}. Best is trial 59 with value: 0.6409839440108437.\n",
      "[I 2023-07-24 04:58:57,121] Trial 64 finished with value: 0.6526733834378179 and parameters: {'n_estimators': 198, 'max_depth': 15, 'min_samples_split': 2, 'min_samples_leaf': 3, 'max_features': 0.5266219909982236}. Best is trial 59 with value: 0.6409839440108437.\n",
      "[I 2023-07-24 05:01:55,385] Trial 65 finished with value: 0.6620276286114782 and parameters: {'n_estimators': 263, 'max_depth': 14, 'min_samples_split': 4, 'min_samples_leaf': 2, 'max_features': 0.5715297228192072}. Best is trial 59 with value: 0.6409839440108437.\n",
      "[I 2023-07-24 05:03:28,771] Trial 66 finished with value: 0.664338233896084 and parameters: {'n_estimators': 153, 'max_depth': 14, 'min_samples_split': 4, 'min_samples_leaf': 2, 'max_features': 0.49852684174897977}. Best is trial 59 with value: 0.6409839440108437.\n",
      "[I 2023-07-24 05:07:21,740] Trial 67 finished with value: 0.6622479465362694 and parameters: {'n_estimators': 347, 'max_depth': 15, 'min_samples_split': 3, 'min_samples_leaf': 4, 'max_features': 0.536302977505889}. Best is trial 59 with value: 0.6409839440108437.\n",
      "[I 2023-07-24 05:09:04,483] Trial 68 finished with value: 0.6562426626236695 and parameters: {'n_estimators': 193, 'max_depth': 15, 'min_samples_split': 6, 'min_samples_leaf': 3, 'max_features': 0.4657199954547048}. Best is trial 59 with value: 0.6409839440108437.\n",
      "[I 2023-07-24 05:12:14,287] Trial 69 finished with value: 0.7187494072418449 and parameters: {'n_estimators': 285, 'max_depth': 13, 'min_samples_split': 17, 'min_samples_leaf': 2, 'max_features': 0.5973506669708629}. Best is trial 59 with value: 0.6409839440108437.\n",
      "[I 2023-07-24 05:14:29,883] Trial 70 finished with value: 0.7380630375919746 and parameters: {'n_estimators': 233, 'max_depth': 12, 'min_samples_split': 2, 'min_samples_leaf': 4, 'max_features': 0.5647728154033971}. Best is trial 59 with value: 0.6409839440108437.\n",
      "[I 2023-07-24 05:15:44,304] Trial 71 finished with value: 0.6483218760518699 and parameters: {'n_estimators': 134, 'max_depth': 15, 'min_samples_split': 5, 'min_samples_leaf': 2, 'max_features': 0.4229016452863288}. Best is trial 59 with value: 0.6409839440108437.\n",
      "[I 2023-07-24 05:17:46,057] Trial 72 finished with value: 0.6478631732172394 and parameters: {'n_estimators': 193, 'max_depth': 15, 'min_samples_split': 6, 'min_samples_leaf': 2, 'max_features': 0.48490642270799517}. Best is trial 59 with value: 0.6409839440108437.\n",
      "[I 2023-07-24 05:20:14,740] Trial 73 finished with value: 0.6726159045282303 and parameters: {'n_estimators': 255, 'max_depth': 14, 'min_samples_split': 3, 'min_samples_leaf': 3, 'max_features': 0.5175702176442705}. Best is trial 59 with value: 0.6409839440108437.\n",
      "[I 2023-07-24 05:22:57,019] Trial 74 finished with value: 0.6422709488489415 and parameters: {'n_estimators': 295, 'max_depth': 15, 'min_samples_split': 5, 'min_samples_leaf': 1, 'max_features': 0.4588988348346883}. Best is trial 59 with value: 0.6409839440108437.\n",
      "[I 2023-07-24 05:23:50,107] Trial 75 finished with value: 0.6654684614621182 and parameters: {'n_estimators': 100, 'max_depth': 14, 'min_samples_split': 4, 'min_samples_leaf': 1, 'max_features': 0.45617304771682143}. Best is trial 59 with value: 0.6409839440108437.\n",
      "[I 2023-07-24 05:27:19,080] Trial 76 finished with value: 0.6353966997414571 and parameters: {'n_estimators': 299, 'max_depth': 15, 'min_samples_split': 4, 'min_samples_leaf': 1, 'max_features': 0.539130061912305}. Best is trial 76 with value: 0.6353966997414571.\n",
      "[I 2023-07-24 05:31:08,947] Trial 77 finished with value: 0.6383514555526413 and parameters: {'n_estimators': 299, 'max_depth': 15, 'min_samples_split': 5, 'min_samples_leaf': 1, 'max_features': 0.6417476578876686}. Best is trial 76 with value: 0.6353966997414571.\n",
      "[I 2023-07-24 05:32:15,884] Trial 78 finished with value: 1.2046454620380245 and parameters: {'n_estimators': 295, 'max_depth': 4, 'min_samples_split': 3, 'min_samples_leaf': 1, 'max_features': 0.5504995502690704}. Best is trial 76 with value: 0.6353966997414571.\n",
      "[I 2023-07-24 05:36:07,104] Trial 79 finished with value: 0.660148408908938 and parameters: {'n_estimators': 346, 'max_depth': 14, 'min_samples_split': 5, 'min_samples_leaf': 1, 'max_features': 0.5851720244462943}. Best is trial 76 with value: 0.6353966997414571.\n",
      "[I 2023-07-24 05:39:08,472] Trial 80 finished with value: 0.6342187920906174 and parameters: {'n_estimators': 214, 'max_depth': 15, 'min_samples_split': 2, 'min_samples_leaf': 1, 'max_features': 0.6979207926498667}. Best is trial 80 with value: 0.6342187920906174.\n",
      "[I 2023-07-24 05:42:06,075] Trial 81 finished with value: 0.634087398303833 and parameters: {'n_estimators': 209, 'max_depth': 15, 'min_samples_split': 2, 'min_samples_leaf': 1, 'max_features': 0.6852407823023655}. Best is trial 81 with value: 0.634087398303833.\n",
      "[I 2023-07-24 05:45:06,910] Trial 82 finished with value: 0.6569416086450992 and parameters: {'n_estimators': 207, 'max_depth': 14, 'min_samples_split': 2, 'min_samples_leaf': 1, 'max_features': 0.7170823256456288}. Best is trial 81 with value: 0.634087398303833.\n",
      "[I 2023-07-24 05:47:02,638] Trial 83 finished with value: 0.6348989562317306 and parameters: {'n_estimators': 139, 'max_depth': 15, 'min_samples_split': 2, 'min_samples_leaf': 1, 'max_features': 0.6794352463381462}. Best is trial 81 with value: 0.634087398303833.\n",
      "[I 2023-07-24 05:49:06,219] Trial 84 finished with value: 0.6349709415180662 and parameters: {'n_estimators': 145, 'max_depth': 15, 'min_samples_split': 2, 'min_samples_leaf': 1, 'max_features': 0.6835228055158231}. Best is trial 81 with value: 0.634087398303833.\n",
      "[I 2023-07-24 05:50:25,238] Trial 85 finished with value: 0.9372533785558652 and parameters: {'n_estimators': 153, 'max_depth': 8, 'min_samples_split': 2, 'min_samples_leaf': 1, 'max_features': 0.7019395118040482}. Best is trial 81 with value: 0.634087398303833.\n",
      "[I 2023-07-24 05:52:48,187] Trial 86 finished with value: 0.6372629633341103 and parameters: {'n_estimators': 142, 'max_depth': 15, 'min_samples_split': 2, 'min_samples_leaf': 1, 'max_features': 0.7666433215325291}. Best is trial 81 with value: 0.634087398303833.\n",
      "[I 2023-07-24 05:54:55,830] Trial 87 finished with value: 0.6589316713787536 and parameters: {'n_estimators': 130, 'max_depth': 14, 'min_samples_split': 2, 'min_samples_leaf': 1, 'max_features': 0.7692789559058656}. Best is trial 81 with value: 0.634087398303833.\n",
      "[I 2023-07-24 05:57:13,662] Trial 88 finished with value: 0.636434279464664 and parameters: {'n_estimators': 147, 'max_depth': 15, 'min_samples_split': 2, 'min_samples_leaf': 1, 'max_features': 0.7610083009538275}. Best is trial 81 with value: 0.634087398303833.\n",
      "[I 2023-07-24 05:58:29,798] Trial 89 finished with value: 0.9999329354552259 and parameters: {'n_estimators': 151, 'max_depth': 7, 'min_samples_split': 2, 'min_samples_leaf': 1, 'max_features': 0.7442088658680929}. Best is trial 81 with value: 0.634087398303833.\n"
     ]
    },
    {
     "name": "stderr",
     "output_type": "stream",
     "text": [
      "[I 2023-07-24 06:00:03,491] Trial 90 finished with value: 0.6877674819877225 and parameters: {'n_estimators': 102, 'max_depth': 13, 'min_samples_split': 2, 'min_samples_leaf': 1, 'max_features': 0.7762585158869081}. Best is trial 81 with value: 0.634087398303833.\n",
      "[I 2023-07-24 06:02:29,036] Trial 91 finished with value: 0.6348622897407237 and parameters: {'n_estimators': 170, 'max_depth': 15, 'min_samples_split': 3, 'min_samples_leaf': 1, 'max_features': 0.6904910614606413}. Best is trial 81 with value: 0.634087398303833.\n",
      "[I 2023-07-24 06:04:22,058] Trial 92 finished with value: 0.6354701652927998 and parameters: {'n_estimators': 132, 'max_depth': 15, 'min_samples_split': 3, 'min_samples_leaf': 1, 'max_features': 0.684017222559297}. Best is trial 81 with value: 0.634087398303833.\n",
      "[I 2023-07-24 06:06:19,833] Trial 93 finished with value: 0.6577091672584222 and parameters: {'n_estimators': 146, 'max_depth': 14, 'min_samples_split': 3, 'min_samples_leaf': 1, 'max_features': 0.6907433579740699}. Best is trial 81 with value: 0.634087398303833.\n",
      "[I 2023-07-24 06:08:03,983] Trial 94 finished with value: 0.6356822468718979 and parameters: {'n_estimators': 123, 'max_depth': 15, 'min_samples_split': 3, 'min_samples_leaf': 1, 'max_features': 0.6850650227924233}. Best is trial 81 with value: 0.634087398303833.\n",
      "[I 2023-07-24 06:09:46,387] Trial 95 finished with value: 0.6356238271597474 and parameters: {'n_estimators': 118, 'max_depth': 15, 'min_samples_split': 3, 'min_samples_leaf': 1, 'max_features': 0.6687961440582249}. Best is trial 81 with value: 0.634087398303833.\n",
      "[I 2023-07-24 06:11:25,438] Trial 96 finished with value: 0.6579705814377642 and parameters: {'n_estimators': 119, 'max_depth': 14, 'min_samples_split': 3, 'min_samples_leaf': 1, 'max_features': 0.6696552731184148}. Best is trial 81 with value: 0.634087398303833.\n",
      "[I 2023-07-24 06:13:54,911] Trial 97 finished with value: 0.6348707272696428 and parameters: {'n_estimators': 172, 'max_depth': 15, 'min_samples_split': 3, 'min_samples_leaf': 1, 'max_features': 0.6881872564411012}. Best is trial 81 with value: 0.634087398303833.\n",
      "[I 2023-07-24 09:07:15,188] Trial 98 finished with value: 0.6348789307013585 and parameters: {'n_estimators': 167, 'max_depth': 15, 'min_samples_split': 3, 'min_samples_leaf': 1, 'max_features': 0.6814220971216788}. Best is trial 81 with value: 0.634087398303833.\n",
      "[I 2023-07-24 10:43:31,246] Trial 99 finished with value: 0.6579074355290635 and parameters: {'n_estimators': 171, 'max_depth': 14, 'min_samples_split': 3, 'min_samples_leaf': 1, 'max_features': 0.7186485517795321}. Best is trial 81 with value: 0.634087398303833.\n"
     ]
    },
    {
     "name": "stdout",
     "output_type": "stream",
     "text": [
      "Number of finished trials: 100\n",
      "Best trial:\n",
      "  Value:  0.634087398303833\n",
      "  Params: \n",
      "    n_estimators: 209\n",
      "    max_depth: 15\n",
      "    min_samples_split: 2\n",
      "    min_samples_leaf: 1\n",
      "    max_features: 0.6852407823023655\n"
     ]
    },
    {
     "ename": "TypeError",
     "evalue": "__init__() got an unexpected keyword argument 'regressors'",
     "output_type": "error",
     "traceback": [
      "\u001b[1;31m---------------------------------------------------------------------------\u001b[0m",
      "\u001b[1;31mTypeError\u001b[0m                                 Traceback (most recent call last)",
      "\u001b[1;32m~\\AppData\\Local\\Temp\\ipykernel_6796\\2242640539.py\u001b[0m in \u001b[0;36m<module>\u001b[1;34m\u001b[0m\n\u001b[0;32m     82\u001b[0m stacking_model = StackingRegressor(\n\u001b[0;32m     83\u001b[0m     \u001b[0mregressors\u001b[0m\u001b[1;33m=\u001b[0m\u001b[1;33m[\u001b[0m\u001b[0mbest_rf_model\u001b[0m\u001b[1;33m,\u001b[0m \u001b[0mxg_reg\u001b[0m\u001b[1;33m]\u001b[0m\u001b[1;33m,\u001b[0m\u001b[1;33m\u001b[0m\u001b[1;33m\u001b[0m\u001b[0m\n\u001b[1;32m---> 84\u001b[1;33m     \u001b[0mmeta_regressor\u001b[0m\u001b[1;33m=\u001b[0m\u001b[0mbest_rf_model\u001b[0m\u001b[1;33m\u001b[0m\u001b[1;33m\u001b[0m\u001b[0m\n\u001b[0m\u001b[0;32m     85\u001b[0m )\n\u001b[0;32m     86\u001b[0m \u001b[1;33m\u001b[0m\u001b[0m\n",
      "\u001b[1;31mTypeError\u001b[0m: __init__() got an unexpected keyword argument 'regressors'"
     ]
    }
   ],
   "source": [
    "import pandas as pd\n",
    "import numpy as np\n",
    "from sklearn.model_selection import cross_val_score, train_test_split\n",
    "from sklearn.ensemble import RandomForestRegressor, VotingRegressor\n",
    "from sklearn.metrics import mean_squared_error, mean_absolute_error\n",
    "from sklearn.preprocessing import OneHotEncoder\n",
    "import optuna\n",
    "import xgboost as xgb\n",
    "from sklearn.ensemble import StackingRegressor\n",
    "from sklearn.model_selection import cross_val_score\n",
    "\n",
    "# train.csv 파일 불러오기\n",
    "train_data = pd.read_csv('train.csv')\n",
    "\n",
    "# 결측치를 평균값으로 대체\n",
    "train_data = train_data.fillna(train_data.mean())\n",
    "\n",
    "# '측정 시간대'를 원핫 인코딩하여 숫자 형태로 변환\n",
    "encoder = OneHotEncoder(sparse=False)\n",
    "time_encoded = encoder.fit_transform(train_data[['측정 시간대']])\n",
    "time_encoded_df = pd.DataFrame(time_encoded, columns=encoder.get_feature_names(['측정 시간대']))\n",
    "train_data = pd.concat([train_data, time_encoded_df], axis=1).drop(['측정 시간대'], axis=1)\n",
    "\n",
    "# 풍속을 예측할 특성(입력 변수)과 풍속(출력 변수)을 분리합니다.\n",
    "X_train = train_data.drop(['ID', '풍속 (m/s)'], axis=1)  # 입력 변수들\n",
    "y_train = train_data['풍속 (m/s)']  # 출력 변수 (풍속)\n",
    "\n",
    "# optuna를 활용한 하이퍼파라미터 최적화\n",
    "def objective(trial):\n",
    "    # RandomForestRegressor의 하이퍼파라미터 설정\n",
    "    n_estimators = trial.suggest_int('n_estimators', 100, 1000)\n",
    "    max_depth = trial.suggest_int('max_depth', 3, 15)\n",
    "    min_samples_split = trial.suggest_int('min_samples_split', 2, 20)\n",
    "    min_samples_leaf = trial.suggest_int('min_samples_leaf', 1, 10)\n",
    "    max_features = trial.suggest_float('max_features', 0.1, 1.0)\n",
    "\n",
    "    # RandomForestRegressor 모델 생성\n",
    "    model = RandomForestRegressor(\n",
    "        random_state=42,\n",
    "        n_estimators=n_estimators,\n",
    "        max_depth=max_depth,\n",
    "        min_samples_split=min_samples_split,\n",
    "        min_samples_leaf=min_samples_leaf,\n",
    "        max_features=max_features\n",
    "    )\n",
    "\n",
    "    # Cross Validation을 활용하여 평균 RMSE 계산\n",
    "    scores = cross_val_score(model, X_train, y_train, scoring='neg_mean_squared_error', cv=5)\n",
    "    rmse_scores = np.sqrt(-scores)\n",
    "    \n",
    "    return np.mean(rmse_scores)\n",
    "\n",
    "# optuna를 활용한 하이퍼파라미터 최적화\n",
    "study = optuna.create_study(direction='minimize')\n",
    "study.optimize(objective, n_trials=100)\n",
    "\n",
    "print('Number of finished trials:', len(study.trials))\n",
    "print('Best trial:')\n",
    "trial = study.best_trial\n",
    "print('  Value: ', trial.value)\n",
    "print('  Params: ')\n",
    "for key, value in trial.params.items():\n",
    "    print('    {}: {}'.format(key, value))\n",
    "\n",
    "# 최적의 하이퍼파라미터로 RandomForestRegressor 모델 생성\n",
    "best_rf_model = RandomForestRegressor(\n",
    "    random_state=42,\n",
    "    n_estimators=study.best_params['n_estimators'],\n",
    "    max_depth=study.best_params['max_depth'],\n",
    "    min_samples_split=study.best_params['min_samples_split'],\n",
    "    min_samples_leaf=study.best_params['min_samples_leaf'],\n",
    "    max_features=study.best_params['max_features']\n",
    ")\n",
    "\n",
    "# XGBoostRegressor 모델 생성\n",
    "xg_reg = xgb.XGBRegressor(objective='reg:squarederror', max_depth=5)\n",
    "\n",
    "# 보팅 앙상블 모델 생성\n",
    "ensemble_model = VotingRegressor(estimators=[('rf', best_rf_model), ('xg', xg_reg)], n_jobs=-1)\n",
    "\n",
    "\n"
   ]
  },
  {
   "cell_type": "code",
   "execution_count": 4,
   "id": "91e57c23",
   "metadata": {},
   "outputs": [
    {
     "name": "stderr",
     "output_type": "stream",
     "text": [
      "C:\\Users\\user\\anaconda3\\envs\\tf\\lib\\site-packages\\ipykernel_launcher.py:17: FutureWarning: Dropping of nuisance columns in DataFrame reductions (with 'numeric_only=None') is deprecated; in a future version this will raise TypeError.  Select only valid columns before calling the reduction.\n",
      "  app.launch_new_instance()\n",
      "C:\\Users\\user\\anaconda3\\envs\\tf\\lib\\site-packages\\sklearn\\utils\\deprecation.py:87: FutureWarning: Function get_feature_names is deprecated; get_feature_names is deprecated in 1.0 and will be removed in 1.2. Please use get_feature_names_out instead.\n",
      "  warnings.warn(msg, category=FutureWarning)\n"
     ]
    },
    {
     "name": "stdout",
     "output_type": "stream",
     "text": [
      "풍속 예측이 완료되었습니다. 결과가 submission.csv에 저장되었습니다.\n"
     ]
    }
   ],
   "source": [
    "# 스태킹을 위한 모델 생성\n",
    "stacking_model = StackingRegressor(\n",
    "    estimators=[('rf', best_rf_model), ('xg', xg_reg)],\n",
    "    final_estimator=best_rf_model\n",
    ")\n",
    "\n",
    "# 앙상블 모델 학습\n",
    "ensemble_model.fit(X_train, y_train)\n",
    "\n",
    "# 스태킹 모델 학습\n",
    "stacking_model.fit(X_train, y_train)\n",
    "\n",
    "# test.csv 파일 불러오기\n",
    "test_data = pd.read_csv('test.csv')\n",
    "\n",
    "# 결측치를 평균값으로 대체\n",
    "test_data = test_data.fillna(test_data.mean())\n",
    "\n",
    "# '측정 시간대'를 원핫 인코딩하여 숫자 형태로 변환\n",
    "time_encoded = encoder.transform(test_data[['측정 시간대']])\n",
    "time_encoded_df = pd.DataFrame(time_encoded, columns=encoder.get_feature_names(['측정 시간대']))\n",
    "test_data = pd.concat([test_data, time_encoded_df], axis=1).drop(['측정 시간대'], axis=1)\n",
    "\n",
    "# 테스트 데이터로 예측을 수행합니다.\n",
    "X_test = test_data.drop('ID', axis=1)  # 테스트 입력 변수들\n",
    "\n",
    "# 앙상블 모델 예측\n",
    "ensemble_pred = ensemble_model.predict(X_test)\n",
    "\n",
    "# 스태킹 모델 예측\n",
    "stacking_pred = stacking_model.predict(X_test)\n",
    "\n",
    "# 앙상블 결과와 스태킹 결과를 평균하여 최종 예측값 도출\n",
    "final_pred = (ensemble_pred + stacking_pred) / 2\n",
    "\n",
    "# Submit / 제출\n",
    "submission = pd.read_csv('./sample_submission.csv')\n",
    "submission['풍속 (m/s)'] = final_pred\n",
    "\n",
    "# 예측 결과를 submission.csv 양식에 맞게 저장합니다.\n",
    "submission.to_csv('submission.csv', index=False)\n",
    "\n",
    "print(\"풍속 예측이 완료되었습니다. 결과가 submission.csv에 저장되었습니다.\")"
   ]
  },
  {
   "cell_type": "code",
   "execution_count": 5,
   "id": "19a4678d",
   "metadata": {},
   "outputs": [
    {
     "name": "stdout",
     "output_type": "stream",
     "text": [
      "평균 RMSE: 0.7286177749296877\n"
     ]
    }
   ],
   "source": [
    "# Cross Validation을 활용하여 평균 RMSE 계산\n",
    "scores = cross_val_score(ensemble_model, X_train, y_train, scoring='neg_mean_squared_error', cv=5)\n",
    "rmse_scores = np.sqrt(-scores)\n",
    "\n",
    "print(\"평균 RMSE:\", np.mean(rmse_scores))"
   ]
  },
  {
   "cell_type": "code",
   "execution_count": 6,
   "id": "dbae49fa",
   "metadata": {},
   "outputs": [
    {
     "name": "stdout",
     "output_type": "stream",
     "text": [
      "평균 RMSE: 0.6317175162823699\n"
     ]
    }
   ],
   "source": [
    "# Cross Validation을 활용하여 평균 RMSE 계산\n",
    "scores = cross_val_score(stacking_model, X_train, y_train, scoring='neg_mean_squared_error', cv=5)\n",
    "rmse_scores = np.sqrt(-scores)\n",
    "\n",
    "print(\"평균 RMSE:\", np.mean(rmse_scores))"
   ]
  }
 ],
 "metadata": {
  "kernelspec": {
   "display_name": "Python 3 (ipykernel)",
   "language": "python",
   "name": "python3"
  },
  "language_info": {
   "codemirror_mode": {
    "name": "ipython",
    "version": 3
   },
   "file_extension": ".py",
   "mimetype": "text/x-python",
   "name": "python",
   "nbconvert_exporter": "python",
   "pygments_lexer": "ipython3",
   "version": "3.7.13"
  }
 },
 "nbformat": 4,
 "nbformat_minor": 5
}
