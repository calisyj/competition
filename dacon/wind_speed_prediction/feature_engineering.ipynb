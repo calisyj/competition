{
 "cells": [
  {
   "cell_type": "code",
   "execution_count": 1,
   "id": "b66c1c12",
   "metadata": {},
   "outputs": [
    {
     "name": "stderr",
     "output_type": "stream",
     "text": [
      "C:\\Users\\user\\anaconda3\\envs\\tf\\lib\\site-packages\\ipykernel_launcher.py:11: FutureWarning: Dropping of nuisance columns in DataFrame reductions (with 'numeric_only=None') is deprecated; in a future version this will raise TypeError.  Select only valid columns before calling the reduction.\n",
      "  # This is added back by InteractiveShellApp.init_path()\n"
     ]
    },
    {
     "name": "stdout",
     "output_type": "stream",
     "text": [
      "           Feature  Importance\n",
      "12        풍향 (deg)    0.131196\n",
      "0                월    0.125510\n",
      "6        대기압(mbar)    0.105794\n",
      "1                일    0.099242\n",
      "5        상대 습도 (%)    0.095091\n",
      "15       측정 시간대_오후    0.058664\n",
      "9    증기압 부족량(mbar)    0.054384\n",
      "11  공기 밀도 (g/m**3)    0.049424\n",
      "7     포화 증기압(mbar)    0.042372\n",
      "4       이슬점 온도(°C)    0.041945\n",
      "3         절대 온도(K)    0.041470\n",
      "8     실제 증기압(mbar)    0.039602\n",
      "10   수증기 함량 (g/kg)    0.039208\n",
      "2       섭씨 온도(°⁣C)    0.038585\n",
      "14       측정 시간대_오전    0.015894\n",
      "13       측정 시간대_새벽    0.011534\n",
      "16       측정 시간대_저녁    0.010087\n"
     ]
    }
   ],
   "source": [
    "import pandas as pd\n",
    "from sklearn.ensemble import ExtraTreesRegressor\n",
    "from sklearn.metrics import mean_absolute_error\n",
    "from sklearn.preprocessing import OneHotEncoder\n",
    "import numpy as np\n",
    "\n",
    "# train.csv 파일 불러오기\n",
    "train_data = pd.read_csv('train.csv')\n",
    "\n",
    "# 결측치를 평균값으로 대체\n",
    "train_data = train_data.fillna(train_data.mean())\n",
    "\n",
    "# '측정 시간대'를 원핫 인코딩하여 숫자 형태로 변환\n",
    "encoder = OneHotEncoder(sparse=False)\n",
    "time_encoded = encoder.fit_transform(train_data[['측정 시간대']])\n",
    "time_encoded_df = pd.DataFrame(time_encoded, columns=encoder.get_feature_names(['측정 시간대']))\n",
    "train_data = pd.concat([train_data, time_encoded_df], axis=1).drop(['측정 시간대'], axis=1)\n",
    "\n",
    "# 풍속을 예측할 특성(입력 변수)과 풍속(출력 변수)을 분리합니다.\n",
    "X_train = train_data.drop(['ID', '풍속 (m/s)'], axis=1)  # 입력 변수들\n",
    "y_train = train_data['풍속 (m/s)']  # 출력 변수 (풍속)\n",
    "\n",
    "# 엑스트라 회귀 모델을 사용하여 풍속 예측 모델을 학습시킵니다.\n",
    "model = ExtraTreesRegressor(random_state=42)  # 모델 변경: RandomForestRegressor -> ExtraTreesRegressor\n",
    "model.fit(X_train, y_train)\n",
    "\n",
    "# 변수 중요도 계산\n",
    "importance = model.feature_importances_\n",
    "features = X_train.columns\n",
    "\n",
    "# 변수 중요도를 내림차순으로 정렬하여 출력\n",
    "importance_df = pd.DataFrame({'Feature': features, 'Importance': importance})\n",
    "importance_df = importance_df.sort_values(by='Importance', ascending=False)\n",
    "print(importance_df)\n",
    "\n"
   ]
  },
  {
   "cell_type": "code",
   "execution_count": null,
   "id": "2102d702",
   "metadata": {},
   "outputs": [],
   "source": []
  }
 ],
 "metadata": {
  "kernelspec": {
   "display_name": "Python 3 (ipykernel)",
   "language": "python",
   "name": "python3"
  },
  "language_info": {
   "codemirror_mode": {
    "name": "ipython",
    "version": 3
   },
   "file_extension": ".py",
   "mimetype": "text/x-python",
   "name": "python",
   "nbconvert_exporter": "python",
   "pygments_lexer": "ipython3",
   "version": "3.7.13"
  }
 },
 "nbformat": 4,
 "nbformat_minor": 5
}
